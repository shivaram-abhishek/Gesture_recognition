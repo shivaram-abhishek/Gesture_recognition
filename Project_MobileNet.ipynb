{
  "nbformat": 4,
  "nbformat_minor": 0,
  "metadata": {
    "colab": {
      "provenance": []
    },
    "kernelspec": {
      "name": "python3",
      "display_name": "Python 3"
    },
    "language_info": {
      "name": "python"
    }
  },
  "cells": [
    {
      "cell_type": "code",
      "execution_count": null,
      "metadata": {
        "colab": {
          "base_uri": "https://localhost:8080/"
        },
        "id": "TMIC_yQX7leb",
        "outputId": "f33167f3-f47b-477c-f895-8314d1a471e0"
      },
      "outputs": [
        {
          "output_type": "stream",
          "name": "stdout",
          "text": [
            "2.8.0\n"
          ]
        }
      ],
      "source": [
        "%matplotlib inline\n",
        "from google.colab import files\n",
        "import os\n",
        "\n",
        "# TensorFlow and tf.keras\n",
        "import tensorflow as tf\n",
        "from tensorflow import keras\n",
        "\n",
        "# Helper libraries\n",
        "import numpy as np\n",
        "import matplotlib.pyplot as plt\n",
        "import cv2\n",
        "import pandas as pd\n",
        "\n",
        "# Sklearn\n",
        "from sklearn.model_selection import train_test_split # Helps with organizing data for training\n",
        "from sklearn.metrics import confusion_matrix # Helps present results as a confusion-matrix\n",
        "\n",
        "print(tf.__version__)"
      ]
    },
    {
      "cell_type": "code",
      "source": [
        "from google.colab import drive\n",
        "drive.mount('/content/drive')"
      ],
      "metadata": {
        "colab": {
          "base_uri": "https://localhost:8080/"
        },
        "id": "bdadBQGegQwn",
        "outputId": "35744214-35b5-44fb-a55a-fe996c5b89e6"
      },
      "execution_count": null,
      "outputs": [
        {
          "output_type": "stream",
          "name": "stdout",
          "text": [
            "Drive already mounted at /content/drive; to attempt to forcibly remount, call drive.mount(\"/content/drive\", force_remount=True).\n"
          ]
        }
      ]
    },
    {
      "metadata": {
        "id": "jRsNYIIoCmXp",
        "outputId": "7ada1194-bcc1-4a9d-c0df-f4d71e13689d",
        "colab": {
          "base_uri": "https://localhost:8080/"
        }
      },
      "cell_type": "code",
      "source": [
        "# We need to get all the paths for the images to later load them\n",
        "imagepaths = []\n",
        "\n",
        "# Go through all the files and subdirectories inside a folder and save path to images inside list\n",
        "for root, dirs, files in os.walk(\".\", topdown=False): \n",
        "  for name in files:\n",
        "    path = os.path.join(root, name)\n",
        "    if path.endswith(\"jpg\"): # We want only the images\n",
        "      imagepaths.append(path)\n",
        "\n",
        "print(len(imagepaths)) # If > 0, then a PNG image was loaded"
      ],
      "execution_count": null,
      "outputs": [
        {
          "output_type": "stream",
          "name": "stdout",
          "text": [
            "5243\n"
          ]
        }
      ]
    },
    {
      "metadata": {
        "id": "ps9mMyvx_MQR"
      },
      "cell_type": "code",
      "source": [
        "# This function is used more for debugging and showing results later. It plots the image into the notebook\n",
        "\n",
        "def plot_image(path):\n",
        "  img = cv2.imread(path) # Reads the image into a numpy.array\n",
        "  img_cvt = cv2.cvtColor(img, cv2.COLOR_BGR2GRAY) # Converts into the corret colorspace (RGB)\n",
        "  print(img_cvt.shape) # Prints the shape of the image just to check\n",
        "  plt.grid(False) # Without grid so we can see better\n",
        "  plt.imshow(img_cvt) # Shows the image\n",
        "  plt.xlabel(\"Width\")\n",
        "  plt.ylabel(\"Height\")\n",
        "  plt.title(\"Image \" + path)"
      ],
      "execution_count": null,
      "outputs": []
    },
    {
      "metadata": {
        "id": "BJoQM_Yk__AX",
        "outputId": "f861db2b-9e72-4f5d-e137-c63a5835c3dd",
        "colab": {
          "base_uri": "https://localhost:8080/",
          "height": 312
        }
      },
      "cell_type": "code",
      "source": [
        "plot_image(imagepaths[0]) #We plot the first image from our imagepaths array"
      ],
      "execution_count": null,
      "outputs": [
        {
          "output_type": "stream",
          "name": "stdout",
          "text": [
            "(195, 240)\n"
          ]
        },
        {
          "output_type": "display_data",
          "data": {
            "text/plain": [
              "<Figure size 432x288 with 1 Axes>"
            ],
            "image/png": "[encoded data removed]"
          },
          "metadata": {
            "needs_background": "light"
          }
        }
      ]
    },
    {
      "metadata": {
        "id": "LuQLrqJ2ZmOM",
        "colab": {
          "base_uri": "https://localhost:8080/"
        },
        "outputId": "4a2bd5f1-4f2f-48f5-90c5-89f17ea85fa0"
      },
      "cell_type": "code",
      "source": [
        "X = [] # Image data\n",
        "y = [] # Labels\n",
        "\n",
        "# Loops through imagepaths to load images and labels into arrays\n",
        "for path in imagepaths:\n",
        "  img = cv2.imread(path) # Reads image and returns np.array\n",
        "  img = cv2.cvtColor(img, cv2.COLOR_BGR2GRAY) # Converts into the corret colorspace (GRAY)\n",
        "  img = cv2.resize(img, (320, 120)) # Reduce image size so training can be faster\n",
        "  X.append(img)\n",
        "  \n",
        "  # Processing label in image path\n",
        "\n",
        "  # print(path)\n",
        "  label = path.split(\"/\")[4]\n",
        "  #label = int(category.split(\"_\")[0][1]) # We need to convert 10_down to 00_down, or else it crashes\n",
        "  #print(path)\n",
        "  y.append(label)\n",
        "\n",
        "print(X[0].shape)\n",
        "\n",
        "print(\"done\")\n",
        "\n",
        "# Turn X and y into np.array to speed up train_test_split\n",
        "X = np.array(X, dtype=\"uint8\")\n",
        "X = X.reshape(len(imagepaths), 160, 80, 3) # Needed to reshape so CNN knows it's different images\n",
        "y = np.array(y)\n",
        "\n",
        "print(\"Images loaded: \", len(X))\n",
        "print(\"Labels loaded: \", len(y))\n",
        "\n",
        "print(y[0], imagepaths[0]) # Debugging"
      ],
      "execution_count": null,
      "outputs": [
        {
          "output_type": "stream",
          "name": "stdout",
          "text": [
            "(120, 320)\n",
            "done\n",
            "Images loaded:  5243\n",
            "Labels loaded:  5243\n",
            "paper ./drive/MyDrive/Dataset/paper/2364.jpg\n"
          ]
        }
      ]
    },
    {
      "metadata": {
        "id": "NZa2YzKbdEz7",
        "colab": {
          "base_uri": "https://localhost:8080/"
        },
        "outputId": "e7adb11e-782b-45c9-a2e7-5f2d4477f6b2"
      },
      "cell_type": "code",
      "source": [
        "ts = 0.3 # Percentage of images that we want to use for testing. The rest is used for training.\n",
        "\n",
        "\n",
        "y_dict = {}\n",
        "# y_dict.keys()\n",
        "k = 0\n",
        "for i in set(y):\n",
        "    y_dict[i] = k\n",
        "    k += 1\n",
        "\n",
        "for i in range(len(y)):\n",
        "  y[i] = (y_dict[y[i]])\n",
        "\n",
        "print(y)\n",
        "\n",
        "x_train, x_test, y_train, y_test = train_test_split(X, y, test_size=ts, random_state=42)\n",
        "\n",
        "# y_train = list(y_train)\n",
        "# y_test = list(y_test)\n",
        "\n",
        "a = []\n",
        "b = []\n",
        "\n",
        "for i in range(len(y_train)):\n",
        "    a.append([y_dict[y_train[i]]])\n",
        "\n",
        "for i in range(len(y_test)):\n",
        "    b.append([y_dict[y_test[i]]])\n",
        "\n",
        "y_train = a\n",
        "y_test = b\n",
        "\n",
        "y_train = np.array(y_train)\n",
        "y_test = np.array(y_test)\n",
        "\n",
        "print(y_train)\n",
        "print(x_train.shape, len(y_train[0]))"
      ],
      "execution_count": null,
      "outputs": [
        {
          "output_type": "stream",
          "name": "stdout",
          "text": [
            "['7' '7' '7' ... '4' '4' '4']\n",
            "[[8]\n",
            " [3]\n",
            " [4]\n",
            " ...\n",
            " [6]\n",
            " [6]\n",
            " [8]]\n",
            "(3670, 160, 80, 3) 1\n"
          ]
        }
      ]
    },
    {
      "cell_type": "code",
      "source": [
        "y_train"
      ],
      "metadata": {
        "colab": {
          "base_uri": "https://localhost:8080/"
        },
        "id": "iMy3zPsb2SDR",
        "outputId": "8f539ff5-3cd3-4fb0-f17f-a92214f2b4a2"
      },
      "execution_count": null,
      "outputs": [
        {
          "output_type": "execute_result",
          "data": {
            "text/plain": [
              "array([[8],\n",
              "       [3],\n",
              "       [4],\n",
              "       ...,\n",
              "       [6],\n",
              "       [6],\n",
              "       [8]])"
            ]
          },
          "metadata": {},
          "execution_count": 33
        }
      ]
    },
    {
      "cell_type": "code",
      "source": [
        "print((x_train.shape,y_train.shape))\n",
        "# print((x_val.shape,y_val.shape))\n",
        "print((x_test.shape,y_test.shape))"
      ],
      "metadata": {
        "colab": {
          "base_uri": "https://localhost:8080/"
        },
        "id": "Fku7hl1xhTOC",
        "outputId": "003daa1e-dd90-42c8-8623-09c36710d45c"
      },
      "execution_count": null,
      "outputs": [
        {
          "output_type": "stream",
          "name": "stdout",
          "text": [
            "((3670, 160, 80, 3), (3670, 1))\n",
            "((1573, 160, 80, 3), (1573, 1))\n"
          ]
        }
      ]
    },
    {
      "cell_type": "code",
      "source": [
        "#Onehot Encoding the labels.\n",
        "#Since we have 10 classes we should expect the shape[1] of y_train,y_val and y_test to change from 1 to 10\n",
        "from tensorflow.keras.utils import to_categorical\n",
        "\n",
        "y_train=to_categorical(y_train)\n",
        "# y_val=to_categorical(y_val)\n",
        "y_test=to_categorical(y_test)\n",
        "\n",
        "#Verifying the dimension after onehot encoding\n",
        "print((x_train.shape,y_train.shape))\n",
        "# print((x_val.shape,y_val.shape))\n",
        "print((x_test.shape,y_test.shape))\n"
      ],
      "metadata": {
        "colab": {
          "base_uri": "https://localhost:8080/"
        },
        "id": "YH2aXOLJ-nG0",
        "outputId": "45c85024-d6db-47b0-86aa-4d851ad78f76"
      },
      "execution_count": null,
      "outputs": [
        {
          "output_type": "stream",
          "name": "stdout",
          "text": [
            "((3670, 160, 80, 3), (3670, 10))\n",
            "((1573, 160, 80, 3), (1573, 10))\n"
          ]
        }
      ]
    },
    {
      "cell_type": "code",
      "source": [
        "y_train[0]"
      ],
      "metadata": {
        "colab": {
          "base_uri": "https://localhost:8080/"
        },
        "id": "k9hCg5v001Ka",
        "outputId": "cfc28524-28c1-439d-8dd4-b2707cebb8ae"
      },
      "execution_count": null,
      "outputs": [
        {
          "output_type": "execute_result",
          "data": {
            "text/plain": [
              "array([0., 0., 0., 0., 0., 0., 0., 0., 1., 0.], dtype=float32)"
            ]
          },
          "metadata": {},
          "execution_count": 36
        }
      ]
    },
    {
      "cell_type": "code",
      "source": [
        "#Image Data Augmentation\n",
        "from keras.preprocessing import image as image_utils\n",
        "from keras.callbacks import ReduceLROnPlateau\n",
        "\n",
        "train_generator = image_utils.ImageDataGenerator(rotation_range=2, horizontal_flip=True, zoom_range=.1 )\n",
        "\n",
        "val_generator = image_utils.ImageDataGenerator(rotation_range=2, horizontal_flip=True,zoom_range=.1)\n",
        "\n",
        "test_generator = image_utils.ImageDataGenerator(rotation_range=2,  horizontal_flip= True, zoom_range=.1) \n",
        "\n",
        "#Fitting the augmentation defined above to the data\n",
        "train_generator.fit(x_train)\n",
        "# val_generator.fit(x_val)\n",
        "test_generator.fit(x_test)\n",
        "\n",
        "#Learning Rate Annealer\n",
        "lrr= ReduceLROnPlateau(monitor='val_accuracy', factor=.01,  patience=3, min_lr=1e-5) "
      ],
      "metadata": {
        "id": "_cMfLr1Y-nJQ"
      },
      "execution_count": null,
      "outputs": []
    },
    {
      "cell_type": "code",
      "source": [
        "from keras.applications.mobilenet import MobileNet\n",
        "from keras.models import Sequential\n",
        "from keras.layers import Dense, Activation, Flatten, Dropout\n",
        "\n",
        "base_MobNet = MobileNet(include_top=False,weights='imagenet',input_shape=(160,80,3),classes=y_train.shape[1])\n",
        "\n",
        "#Adding the final layers to the above base models where the actual classification is done in the dense layers\n",
        "model_mobnet = Sequential()\n",
        "model_mobnet.add(base_MobNet) \n",
        "model_mobnet.add(Flatten()) \n",
        "model_mobnet.add(Dense(1024,activation=('relu'),input_dim=512))\n",
        "model_mobnet.add(Dense(512,activation=('relu'))) \n",
        "model_mobnet.add(Dense(256,activation=('relu'))) \n",
        "#model_mobnet.add(Dropout(.3))\n",
        "model_mobnet.add(Dense(128,activation=('relu')))\n",
        "#model_mobnet.add(Dropout(.2))\n",
        "model_mobnet.add(Dense(10,activation=('softmax')))\n",
        "\n",
        "# Model Summary\n",
        "model_mobnet.summary()"
      ],
      "metadata": {
        "colab": {
          "base_uri": "https://localhost:8080/"
        },
        "id": "R44IjIT0-nLZ",
        "outputId": "41cb2247-e4ab-4ef3-9827-6ef1cec2dc86"
      },
      "execution_count": null,
      "outputs": [
        {
          "output_type": "stream",
          "name": "stdout",
          "text": [
            "WARNING:tensorflow:`input_shape` is undefined or non-square, or `rows` is not in [128, 160, 192, 224]. Weights for input shape (224, 224) will be loaded as the default.\n",
            "Model: \"sequential_3\"\n",
            "_________________________________________________________________\n",
            " Layer (type)                Output Shape              Param #   \n",
            "=================================================================\n",
            " mobilenet_1.00_224 (Functio  (None, 5, 2, 1024)       3228864   \n",
            " nal)                                                            \n",
            "                                                                 \n",
            " flatten_3 (Flatten)         (None, 10240)             0         \n",
            "                                                                 \n",
            " dense_15 (Dense)            (None, 1024)              10486784  \n",
            "                                                                 \n",
            " dense_16 (Dense)            (None, 512)               524800    \n",
            "                                                                 \n",
            " dense_17 (Dense)            (None, 256)               131328    \n",
            "                                                                 \n",
            " dense_18 (Dense)            (None, 128)               32896     \n",
            "                                                                 \n",
            " dense_19 (Dense)            (None, 10)                1290      \n",
            "                                                                 \n",
            "=================================================================\n",
            "Total params: 14,405,962\n",
            "Trainable params: 14,384,074\n",
            "Non-trainable params: 21,888\n",
            "_________________________________________________________________\n"
          ]
        }
      ]
    },
    {
      "cell_type": "code",
      "source": [
        "#Compiling the MobileNet model\n",
        "from tensorflow.keras.optimizers import SGD\n",
        "batch_size= 100\n",
        "epochs=30\n",
        "learn_rate=.001\n",
        "\n",
        "sgd=SGD(lr=learn_rate,momentum=.9,nesterov=False)\n",
        "\n",
        "model_mobnet.compile(optimizer=sgd,loss='categorical_crossentropy',metrics=['accuracy'])\n",
        "\n",
        "#Training\n",
        "model_mobnet.fit_generator(train_generator.flow(x_train, y_train, batch_size = batch_size), epochs=10, steps_per_epoch = x_train.shape[0]//batch_size, validation_data = val_generator.flow(x_test, y_test, batch_size = batch_size), validation_steps = 250, callbacks = [lrr], verbose = 1)"
      ],
      "metadata": {
        "colab": {
          "base_uri": "https://localhost:8080/"
        },
        "id": "x20onDtJ-nNj",
        "outputId": "646cd6f6-dafd-4b11-9924-79eee0f63246"
      },
      "execution_count": null,
      "outputs": [
        {
          "metadata": {
            "tags": null
          },
          "name": "stderr",
          "output_type": "stream",
          "text": [
            "/usr/local/lib/python3.7/dist-packages/keras/optimizer_v2/gradient_descent.py:102: UserWarning: The `lr` argument is deprecated, use `learning_rate` instead.\n",
            "  super(SGD, self).__init__(name, **kwargs)\n",
            "/usr/local/lib/python3.7/dist-packages/ipykernel_launcher.py:12: UserWarning: `Model.fit_generator` is deprecated and will be removed in a future version. Please use `Model.fit`, which supports generators.\n",
            "  if sys.path[0] == '':\n"
          ]
        },
        {
          "output_type": "stream",
          "name": "stdout",
          "text": [
            "Epoch 1/10\n",
            "36/36 [==============================] - ETA: 0s - loss: 1.7750 - accuracy: 0.4168WARNING:tensorflow:Your input ran out of data; interrupting training. Make sure that your dataset or generator can generate at least `steps_per_epoch * epochs` batches (in this case, 250 batches). You may need to use the repeat() function when building your dataset.\n",
            "36/36 [==============================] - 233s 6s/step - loss: 1.7750 - accuracy: 0.4168 - val_loss: 1.7369 - val_accuracy: 0.4228 - lr: 0.0010\n",
            "Epoch 2/10\n",
            "36/36 [==============================] - ETA: 0s - loss: 0.4886 - accuracy: 0.8468WARNING:tensorflow:Learning rate reduction is conditioned on metric `val_accuracy` which is not available. Available metrics are: loss,accuracy,lr\n",
            "36/36 [==============================] - 199s 6s/step - loss: 0.4886 - accuracy: 0.8468 - lr: 0.0010\n",
            "Epoch 3/10\n",
            "36/36 [==============================] - ETA: 0s - loss: 0.2131 - accuracy: 0.9286WARNING:tensorflow:Learning rate reduction is conditioned on metric `val_accuracy` which is not available. Available metrics are: loss,accuracy,lr\n",
            "36/36 [==============================] - 200s 6s/step - loss: 0.2131 - accuracy: 0.9286 - lr: 0.0010\n",
            "Epoch 4/10\n",
            "36/36 [==============================] - ETA: 0s - loss: 0.1160 - accuracy: 0.9622WARNING:tensorflow:Learning rate reduction is conditioned on metric `val_accuracy` which is not available. Available metrics are: loss,accuracy,lr\n",
            "36/36 [==============================] - 203s 6s/step - loss: 0.1160 - accuracy: 0.9622 - lr: 0.0010\n",
            "Epoch 5/10\n",
            "36/36 [==============================] - ETA: 0s - loss: 0.0907 - accuracy: 0.9706WARNING:tensorflow:Learning rate reduction is conditioned on metric `val_accuracy` which is not available. Available metrics are: loss,accuracy,lr\n",
            "36/36 [==============================] - 200s 6s/step - loss: 0.0907 - accuracy: 0.9706 - lr: 0.0010\n",
            "Epoch 6/10\n",
            "36/36 [==============================] - ETA: 0s - loss: 0.0699 - accuracy: 0.9784WARNING:tensorflow:Learning rate reduction is conditioned on metric `val_accuracy` which is not available. Available metrics are: loss,accuracy,lr\n",
            "36/36 [==============================] - 202s 6s/step - loss: 0.0699 - accuracy: 0.9784 - lr: 0.0010\n",
            "Epoch 7/10\n",
            "36/36 [==============================] - ETA: 0s - loss: 0.0652 - accuracy: 0.9793WARNING:tensorflow:Learning rate reduction is conditioned on metric `val_accuracy` which is not available. Available metrics are: loss,accuracy,lr\n",
            "36/36 [==============================] - 200s 6s/step - loss: 0.0652 - accuracy: 0.9793 - lr: 0.0010\n",
            "Epoch 8/10\n",
            "36/36 [==============================] - ETA: 0s - loss: 0.0476 - accuracy: 0.9838WARNING:tensorflow:Learning rate reduction is conditioned on metric `val_accuracy` which is not available. Available metrics are: loss,accuracy,lr\n",
            "36/36 [==============================] - 203s 6s/step - loss: 0.0476 - accuracy: 0.9838 - lr: 0.0010\n",
            "Epoch 9/10\n",
            "36/36 [==============================] - ETA: 0s - loss: 0.0321 - accuracy: 0.9913WARNING:tensorflow:Learning rate reduction is conditioned on metric `val_accuracy` which is not available. Available metrics are: loss,accuracy,lr\n",
            "36/36 [==============================] - 203s 6s/step - loss: 0.0321 - accuracy: 0.9913 - lr: 0.0010\n",
            "Epoch 10/10\n",
            "36/36 [==============================] - ETA: 0s - loss: 0.0320 - accuracy: 0.9922WARNING:tensorflow:Learning rate reduction is conditioned on metric `val_accuracy` which is not available. Available metrics are: loss,accuracy,lr\n",
            "36/36 [==============================] - 201s 6s/step - loss: 0.0320 - accuracy: 0.9922 - lr: 0.0010\n"
          ]
        },
        {
          "output_type": "execute_result",
          "data": {
            "text/plain": [
              "<keras.callbacks.History at 0x7f07aa1c7450>"
            ]
          },
          "metadata": {},
          "execution_count": 40
        }
      ]
    },
    {
      "cell_type": "code",
      "source": [
        "#Plotting the training and validation loss\n",
        "f,ax=plt.subplots(2,1) #Creates 2 subplots under 1 column\n",
        "#Training loss and validation loss\n",
        "ax[0].plot(model_mobnet.history.history['loss'],color='b',label='Training Loss')\n",
        "#ax[1].plot(model_mobnet.history.history['val_loss'],color='r',label='Validation Loss')\n",
        "#Training accuracy and validation accuracy\n",
        "ax[1].plot(model_mobnet.history.history['accuracy'],color='b',label='Training  Accuracy')\n",
        "#ax[1].plot(model_mobnet.history.history['val_accuracy'],color='r',label='Validation Accuracy')"
      ],
      "metadata": {
        "colab": {
          "base_uri": "https://localhost:8080/",
          "height": 282
        },
        "id": "NELj94nA-nP5",
        "outputId": "5045bf6d-c7a8-418b-8c43-995664356c88"
      },
      "execution_count": null,
      "outputs": [
        {
          "output_type": "execute_result",
          "data": {
            "text/plain": [
              "[<matplotlib.lines.Line2D at 0x7f07aaaa1610>]"
            ]
          },
          "metadata": {},
          "execution_count": 42
        },
        {
          "output_type": "display_data",
          "data": {
            "text/plain": [
              "<Figure size 432x288 with 2 Axes>"
            ],
            "image/png": "[encoded data removed]"
          },
          "metadata": {
            "needs_background": "light"
          }
        }
      ]
    },
    {
      "cell_type": "code",
      "source": [
        "\n",
        "def plot_confusion_matrix(y_true, y_pred, classes,\n",
        "                          normalize=False,\n",
        "                          title=None,\n",
        "                          cmap=plt.cm.Blues):\n",
        "\n",
        "\n",
        "    if not title:\n",
        "        if normalize:\n",
        "            title = 'Normalized confusion matrix'\n",
        "        else:\n",
        "            title = 'Confusion matrix, without normalization'\n",
        "\n",
        "    # Compute confusion matrix\n",
        "    cm = confusion_matrix(y_true, y_pred)\n",
        "    if normalize:\n",
        "        cm = cm.astype('float') / cm.sum(axis=1)[:, np.newaxis]\n",
        "        print(\"Normalized confusion matrix\")\n",
        "    else:\n",
        "        print('Confusion matrix, without normalization')\n",
        "\n",
        "#     print(cm)\n",
        "\n",
        "    fig, ax = plt.subplots(figsize=(7,7))\n",
        "    im = ax.imshow(cm, interpolation='nearest', cmap=cmap)\n",
        "    ax.figure.colorbar(im, ax=ax)\n",
        "    # We want to show all ticks...\n",
        "    ax.set(xticks=np.arange(cm.shape[1]),\n",
        "           yticks=np.arange(cm.shape[0]),\n",
        "           # ... and label them with the respective list entries\n",
        "           xticklabels=classes, yticklabels=classes,\n",
        "           title=title,\n",
        "           ylabel='True label',\n",
        "           xlabel='Predicted label')\n",
        "\n",
        "    # Rotate the tick labels and set their alignment.\n",
        "    plt.setp(ax.get_xticklabels(), rotation=45, ha=\"right\",\n",
        "             rotation_mode=\"anchor\")\n",
        "    # Loop over data dimensions and create text annotations.\n",
        "    fmt = '.2f' if normalize else 'd'\n",
        "    thresh = cm.max() / 2.\n",
        "    for i in range(cm.shape[0]):\n",
        "        for j in range(cm.shape[1]):\n",
        "            ax.text(j, i, format(cm[i, j], fmt),\n",
        "                    ha=\"center\", va=\"center\",\n",
        "                    color=\"white\" if cm[i, j] > thresh else \"black\")\n",
        "    fig.tight_layout()\n",
        "    return ax"
      ],
      "metadata": {
        "id": "dvS-s8ICjgdS"
      },
      "execution_count": null,
      "outputs": []
    },
    {
      "cell_type": "code",
      "source": [
        "#Making prediction\n",
        "from sklearn.metrics import confusion_matrix\n",
        "import seaborn as sns\n",
        "\n",
        "pred = model_mobnet.predict(x_test)\n",
        "\n",
        "y_pred2 = np.argmax(pred, axis=1)\n",
        "\n",
        "\n",
        "c = []\n",
        "\n",
        "for i in range(len(y_pred2)):\n",
        "    c.append(np.array([y_pred2[i]]))\n",
        "c = np.array(c)\n",
        "\n",
        "c = to_categorical(c)\n",
        "\n",
        "y_pred2 = c\n",
        "\n",
        "# (y_test[0])\n",
        "\n",
        "#Plotting the confusion matrix\n",
        "confusion_mtx=confusion_matrix(y_test.argmax(axis=1),y_pred2.argmax(axis=1))\n",
        "\n",
        "class_names=['airplane', 'automobile', 'bird', 'cat', 'deer', 'dog', 'frog', 'horse', 'ship', 'truck']\n",
        "\n",
        "# #Plotting non-normalized confusion matrix\n",
        "# plot_confusion_matrix(y_test, y_pred2, classes = class_names,  title = 'Non-Normalized MobileNet Confusion Matrix')\n",
        "sns.heatmap(confusion_mtx, annot = True)"
      ],
      "metadata": {
        "colab": {
          "base_uri": "https://localhost:8080/",
          "height": 286
        },
        "id": "sv2HYrfJ-nSL",
        "outputId": "88b0868d-6b15-43a7-930c-2c25e67eaaf6"
      },
      "execution_count": null,
      "outputs": [
        {
          "output_type": "execute_result",
          "data": {
            "text/plain": [
              "<matplotlib.axes._subplots.AxesSubplot at 0x7f07ab880dd0>"
            ]
          },
          "metadata": {},
          "execution_count": 110
        },
        {
          "output_type": "display_data",
          "data": {
            "text/plain": [
              "<Figure size 432x288 with 2 Axes>"
            ],
            "image/png": "[encoded data removed]"
          },
          "metadata": {
            "needs_background": "light"
          }
        }
      ]
    },
    {
      "cell_type": "code",
      "source": [
        "#Accuracy of MobileNet \n",
        "from sklearn.metrics import accuracy_score\n",
        "acc2 = accuracy_score(y_test, y_pred2)\n",
        "print('Accuracy Score of MobileNet = ', acc2)"
      ],
      "metadata": {
        "id": "1pSzCEsK-nW6",
        "colab": {
          "base_uri": "https://localhost:8080/"
        },
        "outputId": "24681473-d99b-45dd-daff-6314c1a901a5"
      },
      "execution_count": null,
      "outputs": [
        {
          "output_type": "stream",
          "name": "stdout",
          "text": [
            "Accuracy Score of MobileNet =  0.9828353464717101\n"
          ]
        }
      ]
    },
    {
      "cell_type": "code",
      "source": [],
      "metadata": {
        "id": "qYqRFh9jPqPh"
      },
      "execution_count": null,
      "outputs": []
    }
  ]
}