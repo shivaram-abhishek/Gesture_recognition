{
  "nbformat": 4,
  "nbformat_minor": 0,
  "metadata": {
    "colab": {
      "provenance": []
    },
    "kernelspec": {
      "name": "python3",
      "display_name": "Python 3"
    },
    "language_info": {
      "name": "python"
    }
  },
  "cells": [
    {
      "cell_type": "code",
      "source": [
        "%matplotlib inline\n",
        "from google.colab import files\n",
        "import os\n",
        "\n",
        "# TensorFlow and tf.keras\n",
        "import tensorflow as tf\n",
        "from tensorflow import keras\n",
        "\n",
        "# Helper libraries\n",
        "import numpy as np\n",
        "import matplotlib.pyplot as plt\n",
        "import cv2\n",
        "import pandas as pd\n",
        "\n",
        "# Sklearn\n",
        "from sklearn.model_selection import train_test_split # Helps with organizing data for training\n",
        "from sklearn.metrics import confusion_matrix # Helps present results as a confusion-matrix\n",
        "\n",
        "print(tf.__version__)"
      ],
      "metadata": {
        "colab": {
          "base_uri": "https://localhost:8080/"
        },
        "id": "zZGtU9TAif6H",
        "outputId": "5707c0fc-4264-4f1d-dc85-6b5bddedd172"
      },
      "execution_count": null,
      "outputs": [
        {
          "output_type": "stream",
          "name": "stdout",
          "text": [
            "2.8.0\n"
          ]
        }
      ]
    },
    {
      "cell_type": "code",
      "source": [
        "from google.colab import drive\n",
        "drive.mount('/content/drive')"
      ],
      "metadata": {
        "colab": {
          "base_uri": "https://localhost:8080/"
        },
        "id": "3uYXEK8XiCKs",
        "outputId": "6303d2f3-eeca-49cf-98a5-12d80051264f"
      },
      "execution_count": null,
      "outputs": [
        {
          "output_type": "stream",
          "name": "stdout",
          "text": [
            "Mounted at /content/drive\n"
          ]
        }
      ]
    },
    {
      "metadata": {
        "id": "jRsNYIIoCmXp",
        "outputId": "1f3ccc53-a1c8-4f92-e3a7-ba026661869e",
        "colab": {
          "base_uri": "https://localhost:8080/"
        }
      },
      "cell_type": "code",
      "source": [
        "# We need to get all the paths for the images to later load them\n",
        "imagepaths = []\n",
        "\n",
        "# Go through all the files and subdirectories inside a folder and save path to images inside list\n",
        "for root, dirs, files in os.walk(\".\", topdown=False): \n",
        "  for name in files:\n",
        "    path = os.path.join(root, name)\n",
        "    if path.endswith(\"jpg\"): # We want only the images\n",
        "      imagepaths.append(path)\n",
        "\n",
        "print(len(imagepaths)) # If > 0, then a PNG image was loaded"
      ],
      "execution_count": null,
      "outputs": [
        {
          "output_type": "stream",
          "name": "stdout",
          "text": [
            "5243\n"
          ]
        }
      ]
    },
    {
      "metadata": {
        "id": "ps9mMyvx_MQR"
      },
      "cell_type": "code",
      "source": [
        "# This function is used more for debugging and showing results later. It plots the image into the notebook\n",
        "\n",
        "def plot_image(path):\n",
        "  img = cv2.imread(path) # Reads the image into a numpy.array\n",
        "  img_cvt = cv2.cvtColor(img, cv2.COLOR_BGR2GRAY) # Converts into the corret colorspace (RGB)\n",
        "  print(img_cvt.shape) # Prints the shape of the image just to check\n",
        "  plt.grid(False) # Without grid so we can see better\n",
        "  plt.imshow(img_cvt) # Shows the image\n",
        "  plt.xlabel(\"Width\")\n",
        "  plt.ylabel(\"Height\")\n",
        "  plt.title(\"Image \" + path)"
      ],
      "execution_count": null,
      "outputs": []
    },
    {
      "metadata": {
        "id": "BJoQM_Yk__AX",
        "outputId": "ee74a8c0-b6ae-41c2-901a-097ddf974222",
        "colab": {
          "base_uri": "https://localhost:8080/",
          "height": 312
        }
      },
      "cell_type": "code",
      "source": [
        "plot_image(imagepaths[0]) #We plot the first image from our imagepaths array"
      ],
      "execution_count": null,
      "outputs": [
        {
          "output_type": "stream",
          "name": "stdout",
          "text": [
            "(195, 240)\n"
          ]
        },
        {
          "output_type": "display_data",
          "data": {
            "text/plain": [
              "<Figure size 432x288 with 1 Axes>"
            ],
            "image/png": "[encoded data removed]"
          },
          "metadata": {
            "needs_background": "light"
          }
        }
      ]
    },
    {
      "metadata": {
        "id": "LuQLrqJ2ZmOM",
        "colab": {
          "base_uri": "https://localhost:8080/"
        },
        "outputId": "436957d0-3a8d-4e11-83a4-71bb42827ce2"
      },
      "cell_type": "code",
      "source": [
        "X = [] # Image data\n",
        "y = [] # Labels\n",
        "\n",
        "# Loops through imagepaths to load images and labels into arrays\n",
        "for path in imagepaths:\n",
        "  img = cv2.imread(path) # Reads image and returns np.array\n",
        "  img = cv2.cvtColor(img, cv2.COLOR_BGR2GRAY) # Converts into the corret colorspace (GRAY)\n",
        "  img = cv2.resize(img, (320, 120)) # Reduce image size so training can be faster\n",
        "  X.append(img)\n",
        "  \n",
        "  # Processing label in image path\n",
        "\n",
        "  # print(path)\n",
        "  label = path.split(\"/\")[4]\n",
        "  #label = int(category.split(\"_\")[0][1]) # We need to convert 10_down to 00_down, or else it crashes\n",
        "  #print(path)\n",
        "  y.append(label)\n",
        "\n",
        "print(X[0].shape)\n",
        "\n",
        "print(\"done\")\n",
        "\n",
        "# Turn X and y into np.array to speed up train_test_split\n",
        "X = np.array(X, dtype=\"uint8\")\n",
        "X = X.reshape(len(imagepaths), 160, 80, 3) # Needed to reshape so CNN knows it's different images\n",
        "y = np.array(y)\n",
        "\n",
        "print(\"Images loaded: \", len(X))\n",
        "print(\"Labels loaded: \", len(y))\n",
        "\n",
        "print(y[0], imagepaths[0]) # Debugging"
      ],
      "execution_count": null,
      "outputs": [
        {
          "output_type": "stream",
          "name": "stdout",
          "text": [
            "(120, 320)\n",
            "done\n",
            "Images loaded:  5243\n",
            "Labels loaded:  5243\n",
            "paper ./drive/MyDrive/Dataset/paper/2364.jpg\n"
          ]
        }
      ]
    },
    {
      "cell_type": "code",
      "source": [
        "ts = 0.3 # Percentage of images that we want to use for testing. The rest is used for training.\n",
        "\n",
        "\n",
        "y_dict = {}\n",
        "# y_dict.keys()\n",
        "k = 0\n",
        "for i in set(y):\n",
        "    y_dict[i] = k\n",
        "    k += 1\n",
        "\n",
        "for i in range(len(y)):\n",
        "  y[i] = (y_dict[y[i]])\n",
        "\n",
        "# print(y)\n",
        "# print(y_dict)\n",
        "\n",
        "x_train, x_test, y_train, y_test = train_test_split(X, y, test_size=ts, random_state=42)\n",
        "\n",
        "# y_train = list(y_train)\n",
        "# y_test = list(y_test)\n",
        "\n",
        "a = []\n",
        "b = []\n",
        "\n",
        "for i in range(len(y_train)):\n",
        "    a.append([y_dict[y_train[i]]])\n",
        "\n",
        "for i in range(len(y_test)):\n",
        "    b.append([y_dict[y_test[i]]])\n",
        "\n",
        "y_train = a\n",
        "y_test = b\n",
        "\n",
        "y_train = np.array(y_train)\n",
        "y_test = np.array(y_test)\n",
        "\n",
        "print(y_train)\n",
        "print(x_train.shape, len(y_train[0]))"
      ],
      "metadata": {
        "colab": {
          "base_uri": "https://localhost:8080/"
        },
        "id": "SJ7ia6Fe-fBe",
        "outputId": "a0c4711a-292f-48e5-b293-ad61912ea881"
      },
      "execution_count": null,
      "outputs": [
        {
          "output_type": "stream",
          "name": "stdout",
          "text": [
            "[[1]\n",
            " [7]\n",
            " [6]\n",
            " ...\n",
            " [8]\n",
            " [8]\n",
            " [1]]\n",
            "(3670, 160, 80, 3) 1\n"
          ]
        }
      ]
    },
    {
      "cell_type": "code",
      "source": [
        "#Split\n",
        "# from sklearn.model_selection import train_test_split\n",
        "# x_train,x_val,y_train,y_val=train_test_split(x_train,y_train,test_size=.3)\n",
        "\n",
        "#Dimension of the CIFAR10 dataset\n",
        "print((x_train.shape,y_train.shape))\n",
        "# print((x_val.shape,y_val.shape))\n",
        "print((x_test.shape,y_test.shape))"
      ],
      "metadata": {
        "colab": {
          "base_uri": "https://localhost:8080/"
        },
        "id": "g5-xXyNg3DjK",
        "outputId": "2ef87ba9-4755-4d9c-c056-be534aa43907"
      },
      "execution_count": null,
      "outputs": [
        {
          "output_type": "stream",
          "name": "stdout",
          "text": [
            "((3670, 160, 80, 3), (3670, 1))\n",
            "((1573, 160, 80, 3), (1573, 1))\n"
          ]
        }
      ]
    },
    {
      "cell_type": "code",
      "source": [
        "#Onehot Encoding the labels.\n",
        "#Since we have 10 classes we should expect the shape[1] of y_train,y_val and y_test to change from 1 to 10\n",
        "from tensorflow.keras.utils import to_categorical\n",
        "\n",
        "y_train=to_categorical(y_train)\n",
        "# y_val=to_categorical(y_val)\n",
        "y_test=to_categorical(y_test)\n",
        "\n",
        "#Verifying the dimension after onehot encoding\n",
        "print((x_train.shape,y_train.shape))\n",
        "# print((x_val.shape,y_val.shape))\n",
        "print((x_test.shape,y_test.shape))\n"
      ],
      "metadata": {
        "colab": {
          "base_uri": "https://localhost:8080/"
        },
        "id": "5_ClAms23DPz",
        "outputId": "82f78a3f-9ae6-49ed-9496-032ea4baf066"
      },
      "execution_count": null,
      "outputs": [
        {
          "output_type": "stream",
          "name": "stdout",
          "text": [
            "((3670, 160, 80, 3), (3670, 10))\n",
            "((1573, 160, 80, 3), (1573, 10))\n"
          ]
        }
      ]
    },
    {
      "cell_type": "code",
      "source": [
        "#Image Data Augmentation\n",
        "from keras.preprocessing import image as image_utils\n",
        "from keras.callbacks import ReduceLROnPlateau\n",
        "\n",
        "train_generator = image_utils.ImageDataGenerator(rotation_range=2, horizontal_flip=True, zoom_range=.1 )\n",
        "\n",
        "val_generator = image_utils.ImageDataGenerator(rotation_range=2, horizontal_flip=True,zoom_range=.1)\n",
        "\n",
        "test_generator = image_utils.ImageDataGenerator(rotation_range=2,  horizontal_flip= True, zoom_range=.1) \n",
        "\n",
        "#Fitting the augmentation defined above to the data\n",
        "train_generator.fit(x_train)\n",
        "# val_generator.fit(x_val)\n",
        "test_generator.fit(x_test)\n",
        "\n",
        "#Learning Rate Annealer\n",
        "lrr= ReduceLROnPlateau(monitor='val_accuracy', factor=.01,  patience=3, min_lr=1e-5) "
      ],
      "metadata": {
        "id": "_Fj4mRVM3B0W"
      },
      "execution_count": null,
      "outputs": []
    },
    {
      "cell_type": "code",
      "source": [
        "#Instantiating ResNet50\n",
        "from keras.applications.resnet import ResNet50\n",
        "from keras.models import Sequential\n",
        "from keras.layers import Dense, Activation, Flatten, Dropout\n",
        "\n",
        "base_model_resnet = ResNet50(include_top=False,weights='imagenet',input_shape=(160, 80, 3),classes=y_train.shape[1])\n",
        "\n",
        "#Defining and Adding layers\n",
        "model_resnet=Sequential()\n",
        "#Add the Dense layers along with activation and batch normalization\n",
        "model_resnet.add(base_model_resnet)\n",
        "model_resnet.add(Flatten())\n",
        "\n",
        "#Add the Dense layers along with activation and batch normalization\n",
        "model_resnet.add(Dense(1024,activation=('relu'),input_dim=512))\n",
        "model_resnet.add(Dense(512,activation=('relu'))) \n",
        "model_resnet.add(Dropout(.4))\n",
        "model_resnet.add(Dense(256,activation=('relu'))) \n",
        "model_resnet.add(Dropout(.3))#Adding a dropout layer that will randomly drop 30% of the weights\n",
        "model_resnet.add(Dense(128,activation=('relu')))\n",
        "model_resnet.add(Dropout(.2))\n",
        "model_resnet.add(Dense(10,activation=('softmax'))) #This is the classification layer\n",
        "\n",
        "#Model summary\n",
        "model_resnet.summary()"
      ],
      "metadata": {
        "colab": {
          "base_uri": "https://localhost:8080/"
        },
        "id": "2VhlrbS83RMC",
        "outputId": "57d046d6-e4f0-461d-b961-1f81f69f867e"
      },
      "execution_count": null,
      "outputs": [
        {
          "output_type": "stream",
          "name": "stdout",
          "text": [
            "Downloading data from https://storage.googleapis.com/tensorflow/keras-applications/resnet/resnet50_weights_tf_dim_ordering_tf_kernels_notop.h5\n",
            "94773248/94765736 [==============================] - 0s 0us/step\n",
            "94781440/94765736 [==============================] - 0s 0us/step\n",
            "Model: \"sequential\"\n",
            "_________________________________________________________________\n",
            " Layer (type)                Output Shape              Param #   \n",
            "=================================================================\n",
            " resnet50 (Functional)       (None, 5, 3, 2048)        23587712  \n",
            "                                                                 \n",
            " flatten (Flatten)           (None, 30720)             0         \n",
            "                                                                 \n",
            " dense (Dense)               (None, 1024)              31458304  \n",
            "                                                                 \n",
            " dense_1 (Dense)             (None, 512)               524800    \n",
            "                                                                 \n",
            " dropout (Dropout)           (None, 512)               0         \n",
            "                                                                 \n",
            " dense_2 (Dense)             (None, 256)               131328    \n",
            "                                                                 \n",
            " dropout_1 (Dropout)         (None, 256)               0         \n",
            "                                                                 \n",
            " dense_3 (Dense)             (None, 128)               32896     \n",
            "                                                                 \n",
            " dropout_2 (Dropout)         (None, 128)               0         \n",
            "                                                                 \n",
            " dense_4 (Dense)             (None, 10)                1290      \n",
            "                                                                 \n",
            "=================================================================\n",
            "Total params: 55,736,330\n",
            "Trainable params: 55,683,210\n",
            "Non-trainable params: 53,120\n",
            "_________________________________________________________________\n"
          ]
        }
      ]
    },
    {
      "cell_type": "code",
      "source": [
        "#Defining the parameters\n",
        "from tensorflow.keras.optimizers import SGD\n",
        "\n",
        "batch_size= 100\n",
        "epochs=10\n",
        "learn_rate=.001\n",
        "\n",
        "sgd=SGD(lr=learn_rate,momentum=.9,nesterov=False)\n",
        "\n",
        "#Compile\n",
        "model_resnet.compile(optimizer=sgd,loss='categorical_crossentropy',metrics=['accuracy'])\n",
        "\n",
        "#Training\n",
        "model_resnet.fit_generator(train_generator.flow(x_train,y_train,batch_size=batch_size), epochs=epochs, steps_per_epoch=x_train.shape[0]//batch_size, validation_data=val_generator.flow(x_test,y_test,batch_size=batch_size),validation_steps=250,callbacks=[lrr],verbose=1)\n"
      ],
      "metadata": {
        "colab": {
          "base_uri": "https://localhost:8080/"
        },
        "id": "oevweabE3Qn4",
        "outputId": "6267a860-b7c2-42d7-ea57-674544d3cb39"
      },
      "execution_count": null,
      "outputs": [
        {
          "output_type": "stream",
          "name": "stderr",
          "text": [
            "/usr/local/lib/python3.7/dist-packages/keras/optimizer_v2/gradient_descent.py:102: UserWarning: The `lr` argument is deprecated, use `learning_rate` instead.\n",
            "  super(SGD, self).__init__(name, **kwargs)\n",
            "/usr/local/lib/python3.7/dist-packages/ipykernel_launcher.py:14: UserWarning: `Model.fit_generator` is deprecated and will be removed in a future version. Please use `Model.fit`, which supports generators.\n",
            "  \n"
          ]
        },
        {
          "output_type": "stream",
          "name": "stdout",
          "text": [
            "Epoch 1/10\n",
            "36/36 [==============================] - ETA: 0s - loss: 2.3299 - accuracy: 0.2218 WARNING:tensorflow:Your input ran out of data; interrupting training. Make sure that your dataset or generator can generate at least `steps_per_epoch * epochs` batches (in this case, 250 batches). You may need to use the repeat() function when building your dataset.\n",
            "36/36 [==============================] - 780s 21s/step - loss: 2.3299 - accuracy: 0.2218 - val_loss: 1.9829 - val_accuracy: 0.3458 - lr: 0.0010\n",
            "Epoch 2/10\n",
            "36/36 [==============================] - ETA: 0s - loss: 1.2709 - accuracy: 0.5658 WARNING:tensorflow:Learning rate reduction is conditioned on metric `val_accuracy` which is not available. Available metrics are: loss,accuracy,lr\n",
            "36/36 [==============================] - 679s 19s/step - loss: 1.2709 - accuracy: 0.5658 - lr: 0.0010\n",
            "Epoch 3/10\n",
            "36/36 [==============================] - ETA: 0s - loss: 0.6312 - accuracy: 0.7902 WARNING:tensorflow:Learning rate reduction is conditioned on metric `val_accuracy` which is not available. Available metrics are: loss,accuracy,lr\n",
            "36/36 [==============================] - 695s 19s/step - loss: 0.6312 - accuracy: 0.7902 - lr: 0.0010\n",
            "Epoch 4/10\n",
            "36/36 [==============================] - ETA: 0s - loss: 0.3321 - accuracy: 0.8947 WARNING:tensorflow:Learning rate reduction is conditioned on metric `val_accuracy` which is not available. Available metrics are: loss,accuracy,lr\n",
            "36/36 [==============================] - 682s 19s/step - loss: 0.3321 - accuracy: 0.8947 - lr: 0.0010\n",
            "Epoch 5/10\n",
            "36/36 [==============================] - ETA: 0s - loss: 0.2103 - accuracy: 0.9347 WARNING:tensorflow:Learning rate reduction is conditioned on metric `val_accuracy` which is not available. Available metrics are: loss,accuracy,lr\n",
            "36/36 [==============================] - 680s 19s/step - loss: 0.2103 - accuracy: 0.9347 - lr: 0.0010\n",
            "Epoch 6/10\n",
            "36/36 [==============================] - ETA: 0s - loss: 0.1294 - accuracy: 0.9630 WARNING:tensorflow:Learning rate reduction is conditioned on metric `val_accuracy` which is not available. Available metrics are: loss,accuracy,lr\n",
            "36/36 [==============================] - 684s 19s/step - loss: 0.1294 - accuracy: 0.9630 - lr: 0.0010\n",
            "Epoch 7/10\n",
            "36/36 [==============================] - ETA: 0s - loss: 0.1208 - accuracy: 0.9611 WARNING:tensorflow:Learning rate reduction is conditioned on metric `val_accuracy` which is not available. Available metrics are: loss,accuracy,lr\n",
            "36/36 [==============================] - 687s 19s/step - loss: 0.1208 - accuracy: 0.9611 - lr: 0.0010\n",
            "Epoch 8/10\n",
            "36/36 [==============================] - ETA: 0s - loss: 0.0775 - accuracy: 0.9751 WARNING:tensorflow:Learning rate reduction is conditioned on metric `val_accuracy` which is not available. Available metrics are: loss,accuracy,lr\n",
            "36/36 [==============================] - 684s 19s/step - loss: 0.0775 - accuracy: 0.9751 - lr: 0.0010\n",
            "Epoch 9/10\n",
            "36/36 [==============================] - ETA: 0s - loss: 0.0794 - accuracy: 0.9751 WARNING:tensorflow:Learning rate reduction is conditioned on metric `val_accuracy` which is not available. Available metrics are: loss,accuracy,lr\n",
            "36/36 [==============================] - 686s 19s/step - loss: 0.0794 - accuracy: 0.9751 - lr: 0.0010\n",
            "Epoch 10/10\n",
            "36/36 [==============================] - ETA: 0s - loss: 0.0563 - accuracy: 0.9824 WARNING:tensorflow:Learning rate reduction is conditioned on metric `val_accuracy` which is not available. Available metrics are: loss,accuracy,lr\n",
            "36/36 [==============================] - 691s 19s/step - loss: 0.0563 - accuracy: 0.9824 - lr: 0.0010\n"
          ]
        },
        {
          "output_type": "execute_result",
          "data": {
            "text/plain": [
              "<keras.callbacks.History at 0x7f59fadfd790>"
            ]
          },
          "metadata": {},
          "execution_count": 15
        }
      ]
    },
    {
      "cell_type": "code",
      "source": [
        "#Plotting the training and validation loss\n",
        "\n",
        "f,ax=plt.subplots(2,1) #Creates 2 subplots under 1 column\n",
        "\n",
        "#Assigning the first subplot to graph training loss and validation loss\n",
        "ax[0].plot(model_resnet.history.history['loss'],color='b',label='Training Loss')\n",
        "ax[0].plot(model_resnet.history.history['val_loss'],color='r',label='Validation Loss')\n",
        "\n",
        "#Plotting the training accuracy and validation accuracy\n",
        "ax[1].plot(model_resnet.history.history['accuracy'],color='b',label='Training  Accuracy')\n",
        "ax[1].plot(model_resnet.history.history['val_accuracy'],color='r',label='Validation Accuracy')"
      ],
      "metadata": {
        "id": "tkvNE_zt6SPu",
        "colab": {
          "base_uri": "https://localhost:8080/",
          "height": 282
        },
        "outputId": "b42bb71e-b427-41de-8fb4-22d9dfd4c519"
      },
      "execution_count": null,
      "outputs": [
        {
          "output_type": "execute_result",
          "data": {
            "text/plain": [
              "[<matplotlib.lines.Line2D at 0x7f59f94baad0>]"
            ]
          },
          "metadata": {},
          "execution_count": 16
        },
        {
          "output_type": "display_data",
          "data": {
            "text/plain": [
              "<Figure size 432x288 with 2 Axes>"
            ],
            "image/png": "[encoded data removed]"
          },
          "metadata": {
            "needs_background": "light"
          }
        }
      ]
    },
    {
      "cell_type": "code",
      "source": [
        "def plot_confusion_matrix(y_true, y_pred, classes,\n",
        "                          normalize=False,\n",
        "                          title=None,\n",
        "                          cmap=plt.cm.Blues):\n",
        "\n",
        "\n",
        "    if not title:\n",
        "        if normalize:\n",
        "            title = 'Normalized confusion matrix'\n",
        "        else:\n",
        "            title = 'Confusion matrix, without normalization'\n",
        "\n",
        "    # Compute confusion matrix\n",
        "    cm = confusion_matrix(y_true, y_pred)\n",
        "    if normalize:\n",
        "        cm = cm.astype('float') / cm.sum(axis=1)[:, np.newaxis]\n",
        "        print(\"Normalized confusion matrix\")\n",
        "    else:\n",
        "        print('Confusion matrix, without normalization')\n",
        "\n",
        "#     print(cm)\n",
        "\n",
        "    fig, ax = plt.subplots(figsize=(7,7))\n",
        "    im = ax.imshow(cm, interpolation='nearest', cmap=cmap)\n",
        "    ax.figure.colorbar(im, ax=ax)\n",
        "    # We want to show all ticks...\n",
        "    ax.set(xticks=np.arange(cm.shape[1]),\n",
        "           yticks=np.arange(cm.shape[0]),\n",
        "           # ... and label them with the respective list entries\n",
        "           xticklabels=classes, yticklabels=classes,\n",
        "           title=title,\n",
        "           ylabel='True label',\n",
        "           xlabel='Predicted label')\n",
        "\n",
        "    # Rotate the tick labels and set their alignment.\n",
        "    plt.setp(ax.get_xticklabels(), rotation=45, ha=\"right\",\n",
        "             rotation_mode=\"anchor\")\n",
        "    # Loop over data dimensions and create text annotations.\n",
        "    fmt = '.2f' if normalize else 'd'\n",
        "    thresh = cm.max() / 2.\n",
        "    for i in range(cm.shape[0]):\n",
        "        for j in range(cm.shape[1]):\n",
        "            ax.text(j, i, format(cm[i, j], fmt),\n",
        "                    ha=\"center\", va=\"center\",\n",
        "                    color=\"white\" if cm[i, j] > thresh else \"black\")\n",
        "    fig.tight_layout()\n",
        "    return ax"
      ],
      "metadata": {
        "id": "_w2lecWTjlhF"
      },
      "execution_count": null,
      "outputs": []
    },
    {
      "cell_type": "code",
      "source": [
        "#Making prediction\n",
        "import seaborn as sns\n",
        "\n",
        "y_pred3=model_resnet.predict(x_test)\n",
        "y_true=np.argmax(y_test,axis=1)\n",
        "\n",
        "y_pred3 = np.argmax(y_pred3, axis=1)\n",
        "\n",
        "c = []\n",
        "\n",
        "for i in range(len(y_pred3)):\n",
        "    c.append(np.array([y_pred3[i]]))\n",
        "c = np.array(c)\n",
        "\n",
        "c = to_categorical(c)\n",
        "\n",
        "y_pred3 = c\n",
        "\n",
        "#Defining function for confusion matrix plot\n",
        "\n",
        "np.set_printoptions(precision=2)\n",
        "\n",
        "#Plotting the confusion matrix\n",
        "confusion_mtx=confusion_matrix(y_true,y_pred3.argmax(axis=1))\n",
        "\n",
        "# class_names=['airplane', 'automobile', 'bird', 'cat', 'deer', 'dog', 'frog', 'horse', 'ship', 'truck']\n",
        "\n",
        "# # Plotting non-normalized confusion matrix\n",
        "# # plot_confusion_matrix(y_true, y_pred3, classes=class_names, title='Non-Normalized ResNet50 Confusion Matrix')\n",
        "sns.heatmap(confusion_mtx, annot = True)"
      ],
      "metadata": {
        "id": "xnd4LJpq6TLD",
        "colab": {
          "base_uri": "https://localhost:8080/",
          "height": 282
        },
        "outputId": "beb1c600-2e31-4cb3-82fa-9280b178ec9c"
      },
      "execution_count": null,
      "outputs": [
        {
          "output_type": "execute_result",
          "data": {
            "text/plain": [
              "<matplotlib.axes._subplots.AxesSubplot at 0x7f59f8c0dd50>"
            ]
          },
          "metadata": {},
          "execution_count": 18
        },
        {
          "output_type": "display_data",
          "data": {
            "text/plain": [
              "<Figure size 432x288 with 2 Axes>"
            ],
            "image/png": "[encoded data removed]"
          },
          "metadata": {
            "needs_background": "light"
          }
        }
      ]
    },
    {
      "cell_type": "code",
      "source": [
        "from sklearn.metrics import accuracy_score\n",
        "resnet_acc = accuracy_score(y_test, y_pred3)\n",
        "print('Accuracy Score of ResNet50 = ', resnet_acc)"
      ],
      "metadata": {
        "id": "eVCJQ1tp6TSO",
        "colab": {
          "base_uri": "https://localhost:8080/"
        },
        "outputId": "48e555bd-3e2a-484c-d82b-8146a2516dd6"
      },
      "execution_count": null,
      "outputs": [
        {
          "output_type": "stream",
          "name": "stdout",
          "text": [
            "Accuracy Score of ResNet50 =  0.989192625556262\n"
          ]
        }
      ]
    },
    {
      "cell_type": "code",
      "source": [],
      "metadata": {
        "id": "v0Rdp1J7nRV6"
      },
      "execution_count": null,
      "outputs": []
    }
  ]
}