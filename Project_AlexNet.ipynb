{
  "nbformat": 4,
  "nbformat_minor": 0,
  "metadata": {
    "colab": {
      "provenance": []
    },
    "kernelspec": {
      "name": "python3",
      "display_name": "Python 3"
    },
    "language_info": {
      "name": "python"
    }
  },
  "cells": [
    {
      "cell_type": "code",
      "source": [
        "%matplotlib inline\n",
        "from google.colab import files\n",
        "import os\n",
        "\n",
        "# TensorFlow and tf.keras\n",
        "import tensorflow as tf\n",
        "from tensorflow import keras\n",
        "\n",
        "# Helper libraries\n",
        "import numpy as np\n",
        "import matplotlib.pyplot as plt\n",
        "import cv2\n",
        "import pandas as pd\n",
        "\n",
        "# Sklearn\n",
        "from sklearn.model_selection import train_test_split # Helps with organizing data for training\n",
        "from sklearn.metrics import confusion_matrix # Helps present results as a confusion-matrix\n",
        "\n",
        "print(tf.__version__)"
      ],
      "metadata": {
        "colab": {
          "base_uri": "https://localhost:8080/"
        },
        "id": "zZGtU9TAif6H",
        "outputId": "e99942a3-e424-4266-c519-a031fe917d78"
      },
      "execution_count": null,
      "outputs": [
        {
          "output_type": "stream",
          "name": "stdout",
          "text": [
            "2.8.0\n"
          ]
        }
      ]
    },
    {
      "cell_type": "code",
      "source": [
        "from google.colab import drive\n",
        "drive.mount('/content/drive')"
      ],
      "metadata": {
        "colab": {
          "base_uri": "https://localhost:8080/"
        },
        "id": "3uYXEK8XiCKs",
        "outputId": "c776f3bd-ca2b-4cc3-f020-fe2206c5e7c7"
      },
      "execution_count": null,
      "outputs": [
        {
          "output_type": "stream",
          "name": "stdout",
          "text": [
            "Mounted at /content/drive\n"
          ]
        }
      ]
    },
    {
      "metadata": {
        "id": "jRsNYIIoCmXp",
        "outputId": "ae8c7d0b-c84d-4f72-8167-b287cc3eff9a",
        "colab": {
          "base_uri": "https://localhost:8080/"
        }
      },
      "cell_type": "code",
      "source": [
        "# We need to get all the paths for the images to later load them\n",
        "imagepaths = []\n",
        "\n",
        "# Go through all the files and subdirectories inside a folder and save path to images inside list\n",
        "for root, dirs, files in os.walk(\".\", topdown=False): \n",
        "  for name in files:\n",
        "    path = os.path.join(root, name)\n",
        "    if path.endswith(\"jpg\"): # We want only the images\n",
        "      imagepaths.append(path)\n",
        "\n",
        "print(len(imagepaths)) # If > 0, then a PNG image was loaded"
      ],
      "execution_count": null,
      "outputs": [
        {
          "output_type": "stream",
          "name": "stdout",
          "text": [
            "5243\n"
          ]
        }
      ]
    },
    {
      "metadata": {
        "id": "ps9mMyvx_MQR"
      },
      "cell_type": "code",
      "source": [
        "# This function is used more for debugging and showing results later. It plots the image into the notebook\n",
        "\n",
        "def plot_image(path):\n",
        "  img = cv2.imread(path) # Reads the image into a numpy.array\n",
        "  img_cvt = cv2.cvtColor(img, cv2.COLOR_BGR2GRAY) # Converts into the corret colorspace (RGB)\n",
        "  print(img_cvt.shape) # Prints the shape of the image just to check\n",
        "  plt.grid(False) # Without grid so we can see better\n",
        "  plt.imshow(img_cvt) # Shows the image\n",
        "  plt.xlabel(\"Width\")\n",
        "  plt.ylabel(\"Height\")\n",
        "  plt.title(\"Image \" + path)"
      ],
      "execution_count": null,
      "outputs": []
    },
    {
      "metadata": {
        "id": "BJoQM_Yk__AX",
        "outputId": "941fd38a-92b0-4f1d-d423-4affa4647f52",
        "colab": {
          "base_uri": "https://localhost:8080/",
          "height": 312
        }
      },
      "cell_type": "code",
      "source": [
        "plot_image(imagepaths[0]) #We plot the first image from our imagepaths array"
      ],
      "execution_count": null,
      "outputs": [
        {
          "output_type": "stream",
          "name": "stdout",
          "text": [
            "(195, 240)\n"
          ]
        },
        {
          "output_type": "display_data",
          "data": {
            "text/plain": [
              "<Figure size 432x288 with 1 Axes>"
            ],
            "image/png": "[encoded data removed]"
          },
          "metadata": {
            "needs_background": "light"
          }
        }
      ]
    },
    {
      "cell_type": "code",
      "source": [
        "print(len(imagepaths))"
      ],
      "metadata": {
        "colab": {
          "base_uri": "https://localhost:8080/"
        },
        "id": "GphYhUFmoIgM",
        "outputId": "b289c86e-25ac-49df-d95a-afde6952a494"
      },
      "execution_count": null,
      "outputs": [
        {
          "output_type": "stream",
          "name": "stdout",
          "text": [
            "5243\n"
          ]
        }
      ]
    },
    {
      "metadata": {
        "id": "LuQLrqJ2ZmOM",
        "colab": {
          "base_uri": "https://localhost:8080/"
        },
        "outputId": "96affb91-8bfa-4d9e-c5b4-48a18680c3d3"
      },
      "cell_type": "code",
      "source": [
        "X = [] # Image data\n",
        "y = [] # Labels\n",
        "\n",
        "# Loops through imagepaths to load images and labels into arrays\n",
        "for path in imagepaths:\n",
        "  img = cv2.imread(path) # Reads image and returns np.array\n",
        "  img = cv2.cvtColor(img, cv2.COLOR_BGR2GRAY) # Converts into the corret colorspace (GRAY)\n",
        "  #img = cv2.resize(img, (320, 120)) # Reduce image size so training can be faster\n",
        "  img = cv2.resize(img, (227,681)) # Reduce image size so training can be faster\n",
        "  X.append(img)\n",
        "  # Processing label in image path\n",
        "\n",
        "  # print(path)\n",
        "  label = path.split(\"/\")[4]\n",
        "  #label = int(category.split(\"_\")[0][1]) # We need to convert 10_down to 00_down, or else it crashes\n",
        "  #print(path)\n",
        "  y.append(label)\n",
        "\n",
        "print(len(X))\n",
        "\n",
        "\n",
        "print(len(imagepaths))\n",
        "print(X[0].shape)\n",
        "\n",
        "print(\"done\")\n",
        "\n",
        "# Turn X and y into np.array to speed up train_test_split\n",
        "X = np.array(X, dtype=\"uint8\")\n",
        "#X = X.reshape(len(imagepaths), 160, 80, 3) # Needed to reshape so CNN knows it's different images\n",
        "X = X.reshape(len(imagepaths), 227, 227, 3) # Needed to reshape so CNN knows it's different images\n",
        "y = np.array(y)\n",
        "\n",
        "print(\"Images loaded: \", len(X))\n",
        "print(\"Labels loaded: \", len(y))\n",
        "print(y[0], imagepaths[0]) # Debugging"
      ],
      "execution_count": null,
      "outputs": [
        {
          "output_type": "stream",
          "name": "stdout",
          "text": [
            "5243\n",
            "5243\n",
            "(681, 227)\n",
            "done\n",
            "Images loaded:  5243\n",
            "Labels loaded:  5243\n",
            "index_up ./drive/MyDrive/Dataset/index_up/5349.jpg\n"
          ]
        }
      ]
    },
    {
      "cell_type": "code",
      "source": [
        "ts = 0.3 # Percentage of images that we want to use for testing. The rest is used for training.\n",
        "\n",
        "\n",
        "y_dict = {}\n",
        "# y_dict.keys()\n",
        "k = 0\n",
        "for i in set(y):\n",
        "    y_dict[i] = k\n",
        "    k += 1\n",
        "\n",
        "for i in range(len(y)):\n",
        "  y[i] = (y_dict[y[i]])\n",
        "\n",
        "print(y)\n",
        "print(y_dict)\n",
        "\n",
        "x_train, x_test, y_train, y_test = train_test_split(X, y, test_size=ts, random_state=42)\n",
        "\n",
        "# y_train = list(y_train)\n",
        "# y_test = list(y_test)\n",
        "\n",
        "a = []\n",
        "b = []\n",
        "\n",
        "for i in range(len(y_train)):\n",
        "    a.append([y_dict[y_train[i]]])\n",
        "\n",
        "for i in range(len(y_test)):\n",
        "    b.append([y_dict[y_test[i]]])\n",
        "\n",
        "y_train = a\n",
        "y_test = b\n",
        "\n",
        "y_train = np.array(y_train)\n",
        "y_test = np.array(y_test)\n",
        "\n",
        "print(y_train)\n",
        "print(x_train.shape, len(y_train[0]))"
      ],
      "metadata": {
        "colab": {
          "base_uri": "https://localhost:8080/"
        },
        "id": "SJ7ia6Fe-fBe",
        "outputId": "c7defb41-677c-4f83-fa82-c0fdfaf0db5b"
      },
      "execution_count": null,
      "outputs": [
        {
          "output_type": "stream",
          "name": "stdout",
          "text": [
            "['0' '0' '0' ... '1' '1' '1']\n",
            "{'3': 0, '6': 1, '8': 2, '7': 3, '9': 4, '2': 5, '0': 6, '4': 7, '5': 8, '1': 9}\n",
            "[[0]\n",
            " [1]\n",
            " [8]\n",
            " ...\n",
            " [9]\n",
            " [9]\n",
            " [0]]\n",
            "(3670, 227, 227, 3) 1\n"
          ]
        }
      ]
    },
    {
      "cell_type": "code",
      "source": [
        "#Split\n",
        "# from sklearn.model_selection import train_test_split\n",
        "# x_train,x_val,y_train,y_val=train_test_split(x_train,y_train,test_size=.3)\n",
        "\n",
        "#Dimension of the CIFAR10 dataset\n",
        "print((x_train.shape,y_train.shape))\n",
        "# print((x_val.shape,y_val.shape))\n",
        "print((x_test.shape,y_test.shape))"
      ],
      "metadata": {
        "colab": {
          "base_uri": "https://localhost:8080/"
        },
        "id": "g5-xXyNg3DjK",
        "outputId": "0b734084-3f1a-4bb6-b73e-e1e2576d35c7"
      },
      "execution_count": null,
      "outputs": [
        {
          "output_type": "stream",
          "name": "stdout",
          "text": [
            "((3670, 227, 227, 3), (3670, 1))\n",
            "((1573, 227, 227, 3), (1573, 1))\n"
          ]
        }
      ]
    },
    {
      "cell_type": "code",
      "source": [
        "#Onehot Encoding the labels.\n",
        "#Since we have 10 classes we should expect the shape[1] of y_train,y_val and y_test to change from 1 to 10\n",
        "from tensorflow.keras.utils import to_categorical\n",
        "\n",
        "y_train=to_categorical(y_train)\n",
        "# y_val=to_categorical(y_val)\n",
        "y_test=to_categorical(y_test)\n",
        "\n",
        "#Verifying the dimension after onehot encoding\n",
        "print((x_train.shape,y_train.shape))\n",
        "# print((x_val.shape,y_val.shape))\n",
        "print((x_test.shape,y_test.shape))\n"
      ],
      "metadata": {
        "colab": {
          "base_uri": "https://localhost:8080/"
        },
        "id": "5_ClAms23DPz",
        "outputId": "5cc93650-f512-453b-b53f-24783bafada3"
      },
      "execution_count": null,
      "outputs": [
        {
          "output_type": "stream",
          "name": "stdout",
          "text": [
            "((3670, 227, 227, 3), (3670, 10))\n",
            "((1573, 227, 227, 3), (1573, 10))\n"
          ]
        }
      ]
    },
    {
      "cell_type": "code",
      "source": [
        "#Image Data Augmentation\n",
        "from keras.preprocessing import image as image_utils\n",
        "from keras.callbacks import ReduceLROnPlateau\n",
        "\n",
        "train_generator = image_utils.ImageDataGenerator(rotation_range=2, horizontal_flip=True, zoom_range=.1 )\n",
        "\n",
        "val_generator = image_utils.ImageDataGenerator(rotation_range=2, horizontal_flip=True,zoom_range=.1)\n",
        "\n",
        "test_generator = image_utils.ImageDataGenerator(rotation_range=2,  horizontal_flip= True, zoom_range=.1) \n",
        "\n",
        "#Fitting the augmentation defined above to the data\n",
        "train_generator.fit(x_train)\n",
        "# val_generator.fit(x_val)\n",
        "test_generator.fit(x_test)\n",
        "\n",
        "#Learning Rate Annealer\n",
        "lrr= ReduceLROnPlateau(monitor='val_accuracy', factor=.01,  patience=3, min_lr=1e-5) "
      ],
      "metadata": {
        "id": "_Fj4mRVM3B0W"
      },
      "execution_count": null,
      "outputs": []
    },
    {
      "cell_type": "code",
      "source": [
        "\n",
        "from keras.models import Sequential\n",
        "from keras.layers import Conv2D, MaxPooling2D, Dense, Flatten, Dropout\n",
        "\n",
        "model_alex = keras.models.Sequential([\n",
        "    keras.layers.Conv2D(filters=96, kernel_size=(11,11), strides=(4,4), activation='relu', input_shape=(227,227,3)),\n",
        "    keras.layers.BatchNormalization(),\n",
        "    keras.layers.MaxPool2D(pool_size=(3,3), strides=(2,2)),\n",
        "    keras.layers.Conv2D(filters=256, kernel_size=(5,5), strides=(1,1), activation='relu', padding=\"same\"),\n",
        "    keras.layers.BatchNormalization(),\n",
        "    keras.layers.MaxPool2D(pool_size=(3,3), strides=(2,2)),\n",
        "    keras.layers.Conv2D(filters=384, kernel_size=(3,3), strides=(1,1), activation='relu', padding=\"same\"),\n",
        "    keras.layers.BatchNormalization(),\n",
        "    keras.layers.Conv2D(filters=384, kernel_size=(3,3), strides=(1,1), activation='relu', padding=\"same\"),\n",
        "    keras.layers.BatchNormalization(),\n",
        "    keras.layers.Conv2D(filters=256, kernel_size=(3,3), strides=(1,1), activation='relu', padding=\"same\"),\n",
        "    keras.layers.BatchNormalization(),\n",
        "    keras.layers.MaxPool2D(pool_size=(3,3), strides=(2,2)),\n",
        "    keras.layers.Flatten(),\n",
        "    keras.layers.Dense(4096, activation='relu'),\n",
        "    keras.layers.Dropout(0.5),\n",
        "    keras.layers.Dense(4096, activation='relu'),\n",
        "    keras.layers.Dropout(0.5),\n",
        "    keras.layers.Dense(10, activation='softmax')\n",
        "])\n",
        "\n",
        "model_alex.summary()"
      ],
      "metadata": {
        "colab": {
          "base_uri": "https://localhost:8080/"
        },
        "id": "KXl8l36nmc5-",
        "outputId": "c0ee3759-4d78-44d3-b195-3b0ad3e7a821"
      },
      "execution_count": null,
      "outputs": [
        {
          "output_type": "stream",
          "name": "stdout",
          "text": [
            "Model: \"sequential\"\n",
            "_________________________________________________________________\n",
            " Layer (type)                Output Shape              Param #   \n",
            "=================================================================\n",
            " conv2d (Conv2D)             (None, 55, 55, 96)        34944     \n",
            "                                                                 \n",
            " batch_normalization (BatchN  (None, 55, 55, 96)       384       \n",
            " ormalization)                                                   \n",
            "                                                                 \n",
            " max_pooling2d (MaxPooling2D  (None, 27, 27, 96)       0         \n",
            " )                                                               \n",
            "                                                                 \n",
            " conv2d_1 (Conv2D)           (None, 27, 27, 256)       614656    \n",
            "                                                                 \n",
            " batch_normalization_1 (Batc  (None, 27, 27, 256)      1024      \n",
            " hNormalization)                                                 \n",
            "                                                                 \n",
            " max_pooling2d_1 (MaxPooling  (None, 13, 13, 256)      0         \n",
            " 2D)                                                             \n",
            "                                                                 \n",
            " conv2d_2 (Conv2D)           (None, 13, 13, 384)       885120    \n",
            "                                                                 \n",
            " batch_normalization_2 (Batc  (None, 13, 13, 384)      1536      \n",
            " hNormalization)                                                 \n",
            "                                                                 \n",
            " conv2d_3 (Conv2D)           (None, 13, 13, 384)       1327488   \n",
            "                                                                 \n",
            " batch_normalization_3 (Batc  (None, 13, 13, 384)      1536      \n",
            " hNormalization)                                                 \n",
            "                                                                 \n",
            " conv2d_4 (Conv2D)           (None, 13, 13, 256)       884992    \n",
            "                                                                 \n",
            " batch_normalization_4 (Batc  (None, 13, 13, 256)      1024      \n",
            " hNormalization)                                                 \n",
            "                                                                 \n",
            " max_pooling2d_2 (MaxPooling  (None, 6, 6, 256)        0         \n",
            " 2D)                                                             \n",
            "                                                                 \n",
            " flatten (Flatten)           (None, 9216)              0         \n",
            "                                                                 \n",
            " dense (Dense)               (None, 4096)              37752832  \n",
            "                                                                 \n",
            " dropout (Dropout)           (None, 4096)              0         \n",
            "                                                                 \n",
            " dense_1 (Dense)             (None, 4096)              16781312  \n",
            "                                                                 \n",
            " dropout_1 (Dropout)         (None, 4096)              0         \n",
            "                                                                 \n",
            " dense_2 (Dense)             (None, 10)                40970     \n",
            "                                                                 \n",
            "=================================================================\n",
            "Total params: 58,327,818\n",
            "Trainable params: 58,325,066\n",
            "Non-trainable params: 2,752\n",
            "_________________________________________________________________\n"
          ]
        }
      ]
    },
    {
      "cell_type": "code",
      "source": [
        "#Instantiating ResNet50\n",
        "from keras.applications.resnet import ResNet50\n",
        "from keras.models import Sequential\n",
        "from keras.layers import Dense, Activation, Flatten, Dropout\n",
        "\n",
        "base_model_resnet = ResNet50(include_top=False,weights='imagenet',input_shape=(160, 80, 3),classes=y_train.shape[1])\n",
        "\n",
        "#Defining and Adding layers\n",
        "model_resnet=Sequential()\n",
        "#Add the Dense layers along with activation and batch normalization\n",
        "model_resnet.add(base_model_resnet)\n",
        "model_resnet.add(Flatten())\n",
        "\n",
        "#Add the Dense layers along with activation and batch normalization\n",
        "model_resnet.add(Dense(1024,activation=('relu'),input_dim=512))\n",
        "model_resnet.add(Dense(512,activation=('relu'))) \n",
        "model_resnet.add(Dropout(.4))\n",
        "model_resnet.add(Dense(256,activation=('relu'))) \n",
        "model_resnet.add(Dropout(.3))#Adding a dropout layer that will randomly drop 30% of the weights\n",
        "model_resnet.add(Dense(128,activation=('relu')))\n",
        "model_resnet.add(Dropout(.2))\n",
        "model_resnet.add(Dense(10,activation=('softmax'))) #This is the classification layer\n",
        "\n",
        "#Model summary\n",
        "model_resnet.summary()"
      ],
      "metadata": {
        "colab": {
          "base_uri": "https://localhost:8080/"
        },
        "id": "2VhlrbS83RMC",
        "outputId": "242211b5-62b1-4edf-c5ab-e9172589ca7a"
      },
      "execution_count": null,
      "outputs": [
        {
          "output_type": "stream",
          "name": "stdout",
          "text": [
            "Downloading data from https://storage.googleapis.com/tensorflow/keras-applications/resnet/resnet50_weights_tf_dim_ordering_tf_kernels_notop.h5\n",
            "94773248/94765736 [==============================] - 0s 0us/step\n",
            "94781440/94765736 [==============================] - 0s 0us/step\n",
            "Model: \"sequential\"\n",
            "_________________________________________________________________\n",
            " Layer (type)                Output Shape              Param #   \n",
            "=================================================================\n",
            " resnet50 (Functional)       (None, 5, 3, 2048)        23587712  \n",
            "                                                                 \n",
            " flatten (Flatten)           (None, 30720)             0         \n",
            "                                                                 \n",
            " dense (Dense)               (None, 1024)              31458304  \n",
            "                                                                 \n",
            " dense_1 (Dense)             (None, 512)               524800    \n",
            "                                                                 \n",
            " dropout (Dropout)           (None, 512)               0         \n",
            "                                                                 \n",
            " dense_2 (Dense)             (None, 256)               131328    \n",
            "                                                                 \n",
            " dropout_1 (Dropout)         (None, 256)               0         \n",
            "                                                                 \n",
            " dense_3 (Dense)             (None, 128)               32896     \n",
            "                                                                 \n",
            " dropout_2 (Dropout)         (None, 128)               0         \n",
            "                                                                 \n",
            " dense_4 (Dense)             (None, 10)                1290      \n",
            "                                                                 \n",
            "=================================================================\n",
            "Total params: 55,736,330\n",
            "Trainable params: 55,683,210\n",
            "Non-trainable params: 53,120\n",
            "_________________________________________________________________\n"
          ]
        }
      ]
    },
    {
      "cell_type": "code",
      "source": [
        "from tensorflow.keras.optimizers import SGD\n",
        "\n",
        "batch_size= 100\n",
        "epochs=10\n",
        "learn_rate=.001\n",
        "\n",
        "sgd=SGD(lr=learn_rate,momentum=.9,nesterov=False)\n",
        "\n",
        "model_alex.compile(optimizer=sgd,loss='categorical_crossentropy',metrics=['accuracy'])\n",
        "\n",
        "\n",
        "model_alex.fit_generator(train_generator.flow(x_train,y_train,batch_size=batch_size), epochs=epochs, steps_per_epoch=x_train.shape[0]//batch_size, validation_data=val_generator.flow(x_test,y_test,batch_size=batch_size),validation_steps=250,callbacks=[lrr],verbose=1)\n"
      ],
      "metadata": {
        "colab": {
          "base_uri": "https://localhost:8080/"
        },
        "id": "S_zUGazAnJaZ",
        "outputId": "d85fc1a7-1f0c-4960-f1d1-525906dc8434"
      },
      "execution_count": null,
      "outputs": [
        {
          "output_type": "stream",
          "name": "stderr",
          "text": [
            "/usr/local/lib/python3.7/dist-packages/keras/optimizer_v2/gradient_descent.py:102: UserWarning: The `lr` argument is deprecated, use `learning_rate` instead.\n",
            "  super(SGD, self).__init__(name, **kwargs)\n",
            "/usr/local/lib/python3.7/dist-packages/ipykernel_launcher.py:12: UserWarning: `Model.fit_generator` is deprecated and will be removed in a future version. Please use `Model.fit`, which supports generators.\n",
            "  if sys.path[0] == '':\n"
          ]
        },
        {
          "output_type": "stream",
          "name": "stdout",
          "text": [
            "Epoch 1/10\n",
            "36/36 [==============================] - ETA: 0s - loss: 2.4335 - accuracy: 0.4331 WARNING:tensorflow:Your input ran out of data; interrupting training. Make sure that your dataset or generator can generate at least `steps_per_epoch * epochs` batches (in this case, 250 batches). You may need to use the repeat() function when building your dataset.\n",
            "36/36 [==============================] - 636s 18s/step - loss: 2.4335 - accuracy: 0.4331 - val_loss: 46.7896 - val_accuracy: 0.1411 - lr: 0.0010\n",
            "Epoch 2/10\n",
            "36/36 [==============================] - ETA: 0s - loss: 0.5711 - accuracy: 0.8087 WARNING:tensorflow:Learning rate reduction is conditioned on metric `val_accuracy` which is not available. Available metrics are: loss,accuracy,lr\n",
            "36/36 [==============================] - 550s 15s/step - loss: 0.5711 - accuracy: 0.8087 - lr: 0.0010\n",
            "Epoch 3/10\n",
            "36/36 [==============================] - ETA: 0s - loss: 0.2898 - accuracy: 0.9098 WARNING:tensorflow:Learning rate reduction is conditioned on metric `val_accuracy` which is not available. Available metrics are: loss,accuracy,lr\n",
            "36/36 [==============================] - 540s 15s/step - loss: 0.2898 - accuracy: 0.9098 - lr: 0.0010\n",
            "Epoch 4/10\n",
            "36/36 [==============================] - ETA: 0s - loss: 0.1959 - accuracy: 0.9370 WARNING:tensorflow:Learning rate reduction is conditioned on metric `val_accuracy` which is not available. Available metrics are: loss,accuracy,lr\n",
            "36/36 [==============================] - 551s 15s/step - loss: 0.1959 - accuracy: 0.9370 - lr: 0.0010\n",
            "Epoch 5/10\n",
            "36/36 [==============================] - ETA: 0s - loss: 0.1307 - accuracy: 0.9585 WARNING:tensorflow:Learning rate reduction is conditioned on metric `val_accuracy` which is not available. Available metrics are: loss,accuracy,lr\n",
            "36/36 [==============================] - 548s 15s/step - loss: 0.1307 - accuracy: 0.9585 - lr: 0.0010\n",
            "Epoch 6/10\n",
            "36/36 [==============================] - ETA: 0s - loss: 0.1096 - accuracy: 0.9636 WARNING:tensorflow:Learning rate reduction is conditioned on metric `val_accuracy` which is not available. Available metrics are: loss,accuracy,lr\n",
            "36/36 [==============================] - 535s 15s/step - loss: 0.1096 - accuracy: 0.9636 - lr: 0.0010\n",
            "Epoch 7/10\n",
            "36/36 [==============================] - ETA: 0s - loss: 0.0930 - accuracy: 0.9695 WARNING:tensorflow:Learning rate reduction is conditioned on metric `val_accuracy` which is not available. Available metrics are: loss,accuracy,lr\n",
            "36/36 [==============================] - 539s 15s/step - loss: 0.0930 - accuracy: 0.9695 - lr: 0.0010\n",
            "Epoch 8/10\n",
            "36/36 [==============================] - ETA: 0s - loss: 0.0808 - accuracy: 0.9751 WARNING:tensorflow:Learning rate reduction is conditioned on metric `val_accuracy` which is not available. Available metrics are: loss,accuracy,lr\n",
            "36/36 [==============================] - 546s 15s/step - loss: 0.0808 - accuracy: 0.9751 - lr: 0.0010\n",
            "Epoch 9/10\n",
            "36/36 [==============================] - ETA: 0s - loss: 0.0589 - accuracy: 0.9818 WARNING:tensorflow:Learning rate reduction is conditioned on metric `val_accuracy` which is not available. Available metrics are: loss,accuracy,lr\n",
            "36/36 [==============================] - 542s 15s/step - loss: 0.0589 - accuracy: 0.9818 - lr: 0.0010\n",
            "Epoch 10/10\n",
            "36/36 [==============================] - ETA: 0s - loss: 0.0572 - accuracy: 0.9810 WARNING:tensorflow:Learning rate reduction is conditioned on metric `val_accuracy` which is not available. Available metrics are: loss,accuracy,lr\n",
            "36/36 [==============================] - 547s 15s/step - loss: 0.0572 - accuracy: 0.9810 - lr: 0.0010\n"
          ]
        },
        {
          "output_type": "execute_result",
          "data": {
            "text/plain": [
              "<keras.callbacks.History at 0x7f42d633e7d0>"
            ]
          },
          "metadata": {},
          "execution_count": 24
        }
      ]
    },
    {
      "cell_type": "code",
      "source": [
        "#Defining the parameters\n",
        "from tensorflow.keras.optimizers import SGD\n",
        "\n",
        "batch_size= 100\n",
        "epochs=10\n",
        "learn_rate=.001\n",
        "\n",
        "sgd=SGD(lr=learn_rate,momentum=.9,nesterov=False)\n",
        "\n",
        "#Compile\n",
        "model_resnet.compile(optimizer=sgd,loss='categorical_crossentropy',metrics=['accuracy'])\n",
        "\n",
        "#Training\n",
        "model_resnet.fit_generator(train_generator.flow(x_train,y_train,batch_size=batch_size), epochs=epochs, steps_per_epoch=x_train.shape[0]//batch_size, validation_data=val_generator.flow(x_test,y_test,batch_size=batch_size),validation_steps=250,callbacks=[lrr],verbose=1)\n"
      ],
      "metadata": {
        "colab": {
          "base_uri": "https://localhost:8080/"
        },
        "id": "oevweabE3Qn4",
        "outputId": "ac906647-078e-4e40-f117-9da0fcf1ac6f"
      },
      "execution_count": null,
      "outputs": [
        {
          "output_type": "stream",
          "name": "stderr",
          "text": [
            "/usr/local/lib/python3.7/dist-packages/keras/optimizer_v2/gradient_descent.py:102: UserWarning: The `lr` argument is deprecated, use `learning_rate` instead.\n",
            "  super(SGD, self).__init__(name, **kwargs)\n",
            "/usr/local/lib/python3.7/dist-packages/ipykernel_launcher.py:14: UserWarning: `Model.fit_generator` is deprecated and will be removed in a future version. Please use `Model.fit`, which supports generators.\n",
            "  \n"
          ]
        },
        {
          "output_type": "stream",
          "name": "stdout",
          "text": [
            "Epoch 1/10\n",
            "36/36 [==============================] - ETA: 0s - loss: 2.3521 - accuracy: 0.1950 WARNING:tensorflow:Your input ran out of data; interrupting training. Make sure that your dataset or generator can generate at least `steps_per_epoch * epochs` batches (in this case, 250 batches). You may need to use the repeat() function when building your dataset.\n",
            "36/36 [==============================] - 726s 20s/step - loss: 2.3521 - accuracy: 0.1950 - val_loss: 2.0335 - val_accuracy: 0.2848 - lr: 0.0010\n",
            "Epoch 2/10\n",
            "36/36 [==============================] - ETA: 0s - loss: 1.3300 - accuracy: 0.5608 WARNING:tensorflow:Learning rate reduction is conditioned on metric `val_accuracy` which is not available. Available metrics are: loss,accuracy,lr\n",
            "36/36 [==============================] - 655s 18s/step - loss: 1.3300 - accuracy: 0.5608 - lr: 0.0010\n",
            "Epoch 3/10\n",
            "36/36 [==============================] - ETA: 0s - loss: 0.5745 - accuracy: 0.8190 WARNING:tensorflow:Learning rate reduction is conditioned on metric `val_accuracy` which is not available. Available metrics are: loss,accuracy,lr\n",
            "36/36 [==============================] - 653s 18s/step - loss: 0.5745 - accuracy: 0.8190 - lr: 0.0010\n",
            "Epoch 4/10\n",
            "36/36 [==============================] - ETA: 0s - loss: 0.3184 - accuracy: 0.9031 WARNING:tensorflow:Learning rate reduction is conditioned on metric `val_accuracy` which is not available. Available metrics are: loss,accuracy,lr\n",
            "36/36 [==============================] - 659s 18s/step - loss: 0.3184 - accuracy: 0.9031 - lr: 0.0010\n",
            "Epoch 5/10\n",
            "36/36 [==============================] - ETA: 0s - loss: 0.1748 - accuracy: 0.9483 WARNING:tensorflow:Learning rate reduction is conditioned on metric `val_accuracy` which is not available. Available metrics are: loss,accuracy,lr\n",
            "36/36 [==============================] - 664s 18s/step - loss: 0.1748 - accuracy: 0.9483 - lr: 0.0010\n",
            "Epoch 6/10\n",
            "36/36 [==============================] - ETA: 0s - loss: 0.1395 - accuracy: 0.9566 WARNING:tensorflow:Learning rate reduction is conditioned on metric `val_accuracy` which is not available. Available metrics are: loss,accuracy,lr\n",
            "36/36 [==============================] - 655s 18s/step - loss: 0.1395 - accuracy: 0.9566 - lr: 0.0010\n",
            "Epoch 7/10\n",
            "36/36 [==============================] - ETA: 0s - loss: 0.1101 - accuracy: 0.9697 WARNING:tensorflow:Learning rate reduction is conditioned on metric `val_accuracy` which is not available. Available metrics are: loss,accuracy,lr\n",
            "36/36 [==============================] - 659s 18s/step - loss: 0.1101 - accuracy: 0.9697 - lr: 0.0010\n",
            "Epoch 8/10\n",
            "36/36 [==============================] - ETA: 0s - loss: 0.0717 - accuracy: 0.9790 WARNING:tensorflow:Learning rate reduction is conditioned on metric `val_accuracy` which is not available. Available metrics are: loss,accuracy,lr\n",
            "36/36 [==============================] - 660s 18s/step - loss: 0.0717 - accuracy: 0.9790 - lr: 0.0010\n",
            "Epoch 9/10\n",
            "36/36 [==============================] - ETA: 0s - loss: 0.0570 - accuracy: 0.9832 WARNING:tensorflow:Learning rate reduction is conditioned on metric `val_accuracy` which is not available. Available metrics are: loss,accuracy,lr\n",
            "36/36 [==============================] - 656s 18s/step - loss: 0.0570 - accuracy: 0.9832 - lr: 0.0010\n",
            "Epoch 10/10\n",
            "36/36 [==============================] - ETA: 0s - loss: 0.0672 - accuracy: 0.9832 WARNING:tensorflow:Learning rate reduction is conditioned on metric `val_accuracy` which is not available. Available metrics are: loss,accuracy,lr\n",
            "36/36 [==============================] - 656s 18s/step - loss: 0.0672 - accuracy: 0.9832 - lr: 0.0010\n"
          ]
        },
        {
          "output_type": "execute_result",
          "data": {
            "text/plain": [
              "<keras.callbacks.History at 0x7f3f43ea90d0>"
            ]
          },
          "metadata": {},
          "execution_count": 18
        }
      ]
    },
    {
      "cell_type": "code",
      "source": [
        "#Plotting the training and validation loss\n",
        "\n",
        "f,ax=plt.subplots(2,1) #Creates 2 subplots under 1 column\n",
        "\n",
        "#Assigning the first subplot to graph training loss and validation loss\n",
        "ax[0].plot(model_alex.history.history['loss'],color='b',label='Training Loss')\n",
        "ax[0].plot(model_alex.history.history['val_loss'],color='r',label='Validation Loss')\n",
        "\n",
        "#Plotting the training accuracy and validation accuracy\n",
        "ax[1].plot(model_alex.history.history['accuracy'],color='b',label='Training  Accuracy')\n",
        "ax[1].plot(model_alex.history.history['val_accuracy'],color='r',label='Validation Accuracy')"
      ],
      "metadata": {
        "id": "tkvNE_zt6SPu",
        "colab": {
          "base_uri": "https://localhost:8080/",
          "height": 282
        },
        "outputId": "9ca82d25-29d4-4d21-c12e-f33802396c82"
      },
      "execution_count": null,
      "outputs": [
        {
          "output_type": "execute_result",
          "data": {
            "text/plain": [
              "[<matplotlib.lines.Line2D at 0x7f42d491f050>]"
            ]
          },
          "metadata": {},
          "execution_count": 25
        },
        {
          "output_type": "display_data",
          "data": {
            "text/plain": [
              "<Figure size 432x288 with 2 Axes>"
            ],
            "image/png": "[encoded data removed]"
          },
          "metadata": {
            "needs_background": "light"
          }
        }
      ]
    },
    {
      "cell_type": "code",
      "source": [
        "#Making prediction\n",
        "import seaborn as sns\n",
        "\n",
        "y_pred3=model_alex.predict(x_test)\n",
        "y_true=np.argmax(y_test,axis=1)\n",
        "\n",
        "y_pred3 = np.argmax(y_pred3, axis=1)\n",
        "\n",
        "c = []\n",
        "\n",
        "for i in range(len(y_pred3)):\n",
        "    c.append(np.array([y_pred3[i]]))\n",
        "c = np.array(c)\n",
        "\n",
        "c = to_categorical(c)\n",
        "\n",
        "y_pred3 = c\n",
        "\n",
        "#Defining function for confusion matrix plot\n",
        "\n",
        "np.set_printoptions(precision=2)\n",
        "\n",
        "#Plotting the confusion matrix\n",
        "confusion_mtx=confusion_matrix(y_true,y_pred3.argmax(axis=1))\n",
        "\n",
        "# class_names=['airplane', 'automobile', 'bird', 'cat', 'deer', 'dog', 'frog', 'horse', 'ship', 'truck']\n",
        "\n",
        "# # Plotting non-normalized confusion matrix\n",
        "# # plot_confusion_matrix(y_true, y_pred3, classes=class_names, title='Non-Normalized ResNet50 Confusion Matrix')\n",
        "sns.heatmap(confusion_mtx, annot = True)"
      ],
      "metadata": {
        "colab": {
          "base_uri": "https://localhost:8080/",
          "height": 282
        },
        "id": "1pRn5aK4lzxV",
        "outputId": "f24b4ec9-6b54-4427-b2b2-81b8497ed1da"
      },
      "execution_count": null,
      "outputs": [
        {
          "output_type": "execute_result",
          "data": {
            "text/plain": [
              "<matplotlib.axes._subplots.AxesSubplot at 0x7f42d3f6bf90>"
            ]
          },
          "metadata": {},
          "execution_count": 29
        },
        {
          "output_type": "display_data",
          "data": {
            "text/plain": [
              "<Figure size 432x288 with 2 Axes>"
            ],
            "image/png": "[encoded data removed]"
          },
          "metadata": {
            "needs_background": "light"
          }
        }
      ]
    },
    {
      "cell_type": "code",
      "source": [
        "from sklearn.metrics import accuracy_score\n",
        "alex_acc = accuracy_score(y_test, y_pred3)\n",
        "print('Accuracy Score of ResNet50 = ', alex_acc)"
      ],
      "metadata": {
        "id": "eVCJQ1tp6TSO",
        "colab": {
          "base_uri": "https://localhost:8080/"
        },
        "outputId": "63763ad6-bcc9-47f3-b8c7-d43d5226e77c"
      },
      "execution_count": null,
      "outputs": [
        {
          "output_type": "stream",
          "name": "stdout",
          "text": [
            "Accuracy Score of ResNet50 =  0.9624920534011443\n"
          ]
        }
      ]
    },
    {
      "cell_type": "code",
      "source": [],
      "metadata": {
        "id": "v0Rdp1J7nRV6"
      },
      "execution_count": null,
      "outputs": []
    }
  ]
}